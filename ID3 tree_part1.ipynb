{
 "cells": [
  {
   "cell_type": "code",
   "execution_count": 1,
   "metadata": {
    "collapsed": true
   },
   "outputs": [],
   "source": [
    "import pandas as pd\n",
    "import math"
   ]
  },
  {
   "cell_type": "code",
   "execution_count": 2,
   "metadata": {
    "collapsed": true
   },
   "outputs": [],
   "source": [
    "training_data = [\n",
    "({'level':'Senior', 'lang':'Java', 'tweets':'no', 'phd':'no'}, False),\n",
    "({'level':'Senior', 'lang':'Java', 'tweets':'no', 'phd':'yes'}, False),\n",
    "({'level':'Mid', 'lang':'Python', 'tweets':'no', 'phd':'no'}, True),\n",
    "({'level':'Junior', 'lang':'Python', 'tweets':'no', 'phd':'no'}, True),\n",
    "({'level':'Junior', 'lang':'R', 'tweets':'yes', 'phd':'no'}, True),\n",
    "({'level':'Junior', 'lang':'R', 'tweets':'yes', 'phd':'yes'}, False),\n",
    "({'level':'Mid', 'lang':'R', 'tweets':'yes', 'phd':'yes'}, True),\n",
    "({'level':'Senior', 'lang':'Python', 'tweets':'no', 'phd':'no'}, False),\n",
    "({'level':'Senior', 'lang':'R', 'tweets':'yes', 'phd':'no'}, True),\n",
    "({'level':'Junior', 'lang':'Python', 'tweets':'yes', 'phd':'no'}, True),\n",
    "({'level':'Senior', 'lang':'Python', 'tweets':'yes', 'phd':'yes'}, True),\n",
    "({'level':'Mid', 'lang':'Python', 'tweets':'no', 'phd':'yes'}, True),\n",
    "({'level':'Mid', 'lang':'Java', 'tweets':'yes', 'phd':'no'}, True),\n",
    "({'level':'Junior', 'lang':'Python', 'tweets':'no', 'phd':'yes'}, False)\n",
    "] \n",
    "\n",
    "\"\"\" this function uese pandas to convert the training_data\n",
    "to become the table. it helps to make easier to deal with t\n",
    "the dataset\"\"\" \n",
    "def makeFrame(data):\n",
    "    list = []\n",
    "    for t in data:\n",
    "        attribute = t[0]\n",
    "        list.append(attribute)\n",
    "    df = pd.DataFrame(list)\n",
    "    class_value = []\n",
    "    for t in data:\n",
    "        class_value.append(t[1])\n",
    "        df = pd.DataFrame(list)\n",
    "    df['decision'] = class_value\n",
    "    #print(df)\n",
    "    return df\n",
    "\n",
    "\"\"\"after the above function, the oder of the colunms does not correct,\n",
    "so the next two line are used to change the order of columns\"\"\"\n",
    "a = makeFrame(training_data)\n",
    "a = a[a.columns[1:2].tolist()+ a.columns[:1].tolist()+ a.columns[3:4].tolist()+ a.columns[2:3].tolist() +a.columns[4:5].tolist()]\n",
    "a\n",
    "\n",
    "\"\"\"succesfully convert the orginal training dataset to a list of arry, make the training data\n",
    "become to two parts: values and attribute, they are considered as the inputs of my tree\"\"\"\n",
    "dataset = a.values.tolist() \n",
    "attribute = list(training_data[0][0].keys())"
   ]
  },
  {
   "cell_type": "code",
   "execution_count": 3,
   "metadata": {
    "collapsed": true
   },
   "outputs": [],
   "source": [
    "# use the log2 function \n",
    "def log2(n):\n",
    "    return math.log2(n)"
   ]
  },
  {
   "cell_type": "code",
   "execution_count": 4,
   "metadata": {
    "collapsed": true
   },
   "outputs": [],
   "source": [
    "'''according to the index of each values in the dataset，\n",
    "this founction try to get the subset of the training data'''\n",
    "def classify(data, index):\n",
    "    dictionary = {} # declarate a dictionary\n",
    "    for ls in data:\n",
    "        try:\n",
    "            dictionary[ls[index]].append(ls)\n",
    "        except:\n",
    "            dictionary[ls[index]] = [ls] \n",
    "    return dictionary"
   ]
  },
  {
   "cell_type": "code",
   "execution_count": 5,
   "metadata": {
    "collapsed": true
   },
   "outputs": [],
   "source": [
    "# calculae the entropy\n",
    "def entropy(data, index):\n",
    "    dictionary = {} # declarate a dictionary\n",
    "    for item in data:\n",
    "        try:\n",
    "            dictionary[item[index]] += 1\n",
    "        except:\n",
    "            dictionary[item[index]] = 1\n",
    "    entropy = 0.0\n",
    "    for key in dictionary.keys():\n",
    "        p = 1.0 * dictionary[key] / len(data)\n",
    "        entropy += p*log2(p)\n",
    "    return -entropy "
   ]
  },
  {
   "cell_type": "code",
   "execution_count": 6,
   "metadata": {
    "collapsed": true
   },
   "outputs": [],
   "source": [
    "# calculae the subset's entropy\n",
    "def subentropy(data, attrIndex, tarIndex):\n",
    "    classes = classify(data, attrIndex)\n",
    "    e = 0.0\n",
    "    for key in classes.keys():\n",
    "        ent = entropy(classes[key], tarIndex)\n",
    "        e += ent * len(classes[key]) / len(data)\n",
    "    return e\n"
   ]
  },
  {
   "cell_type": "code",
   "execution_count": 7,
   "metadata": {
    "collapsed": true
   },
   "outputs": [],
   "source": [
    "# calculate the information gain\n",
    "def gain(entropy, subentropy):\n",
    "    return entropy - subentropy\n",
    "\n",
    "#bulid a class to define the nodes of tree\n",
    "class TreeNode(object):\n",
    "    def __init__(self, data, index, attrIndexes):\n",
    "        self.decision = attribute[index]\n",
    "        classes = classify(data, index) # classify the data according its attributes\n",
    "        self.children = {}\n",
    "        children = classes.keys()\n",
    "        for child in children: # use this loop the get the subtree\n",
    "            data = classes[child]\n",
    "            self.children[child] = generateTree(data, list(attrIndexes))\n",
    "\n",
    "    def __str__(self):\n",
    "        return self.decision"
   ]
  },
  {
   "cell_type": "code",
   "execution_count": 8,
   "metadata": {
    "collapsed": true
   },
   "outputs": [],
   "source": [
    "# build the ID 3 Tree\n",
    "def generateTree(dataset, attrIndexes):\n",
    "    classes = classify(dataset, tarIndex)\n",
    "    if len(classes) == 1: # if in the same calss\n",
    "        tree = dataset[0][tarIndex]\n",
    "    else:\n",
    "        e = entropy(dataset, tarIndex) # calculae the entropy\n",
    "        gains = {}  # delcare dictionary \n",
    "        maxIndex = attrIndexes[0]         \n",
    "        for i in attrIndexes:\n",
    "            gains[attribute[i]] = gain(e, subentropy(dataset, i, tarIndex))\n",
    "            # find the biggest information gain \n",
    "            if gains[attribute[i]] > gains[attribute[maxIndex]]:\n",
    "                maxIndex = i              \n",
    "        attrIndexSet = set(attrIndexes[:])\n",
    "        attrIndexSet.remove(maxIndex)\n",
    "        tree = TreeNode(dataset, maxIndex, attrIndexSet)\n",
    "    return tree"
   ]
  },
  {
   "cell_type": "code",
   "execution_count": 9,
   "metadata": {},
   "outputs": [
    {
     "name": "stdout",
     "output_type": "stream",
     "text": [
      "( level\n",
      "Senior:{tweets\n",
      "( tweets\n",
      "no:{False\n",
      "yes:{True\n",
      "Mid:{True\n",
      "Junior:{phd\n",
      "( phd\n",
      "no:{True\n",
      "yes:{False\n"
     ]
    }
   ],
   "source": [
    "\"\"\"this part is to show the result, the result may little different from\n",
    "the requirement\"\"\"\n",
    "def showtheTree(tree):\n",
    "    # Tree = {}\n",
    "    if isinstance(tree, TreeNode): # if the the insatnce of tree object in Treenode\n",
    "        print (\"(\",tree)\n",
    "        for key in tree.children:# if the attribute is in the subtree\n",
    "            print (key + ':{' + tree.children[key].__str__())\n",
    "            showtheTree(tree.children[key])\n",
    "\n",
    "            \n",
    "            \n",
    "            \n",
    "tarIndex = len(dataset[0]) - 1 #the index of values\n",
    "attrIndexes = range(0,tarIndex) # the index of the attributes\n",
    "tree = generateTree(dataset, attrIndexes)\n",
    "showtheTree(tree)\n"
   ]
  }
 ],
 "metadata": {
  "kernelspec": {
   "display_name": "Python 3",
   "language": "python",
   "name": "python3"
  },
  "language_info": {
   "codemirror_mode": {
    "name": "ipython",
    "version": 3
   },
   "file_extension": ".py",
   "mimetype": "text/x-python",
   "name": "python",
   "nbconvert_exporter": "python",
   "pygments_lexer": "ipython3",
   "version": "3.6.1"
  }
 },
 "nbformat": 4,
 "nbformat_minor": 2
}
